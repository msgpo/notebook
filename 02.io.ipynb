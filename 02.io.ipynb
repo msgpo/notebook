{
 "cells": [
  {
   "cell_type": "markdown",
   "metadata": {},
   "source": [
    "# IO\n",
    "In this notebook, we are going to control the LEDs and the AMP and read the touch key event."
   ]
  },
  {
   "cell_type": "code",
   "execution_count": 1,
   "metadata": {},
   "outputs": [
    {
     "data": {
      "text/html": [
       "<style>table { display: inline-block }</style>\n"
      ],
      "text/plain": [
       "<IPython.core.display.HTML object>"
      ]
     },
     "metadata": {},
     "output_type": "display_data"
    }
   ],
   "source": [
    "%%html\n",
    "<style>table { display: inline-block }</style>"
   ]
  },
  {
   "cell_type": "markdown",
   "metadata": {},
   "source": [
    "### IO Information\n",
    "| name       | number  | usage        |\n",
    "|------------|---------|--------------|\n",
    "| PA2        | 2       | AMP PWR_EN   |\n",
    "| PA3        | 3       | AMP_MUTE     |\n",
    "| PC0        | 64      | BLUE LED     |\n",
    "| PC1        | 65      | GREEN LED    |\n",
    "| PC2        | 66      | YELLOW LED   |\n",
    "| PC3        | 67      | RED LED      |\n",
    "| PG11       | 203     | TOUCH KEY    |\n",
    "\n",
    "To convert IO name to IO number:"
   ]
  },
  {
   "cell_type": "code",
   "execution_count": 2,
   "metadata": {},
   "outputs": [
    {
     "name": "stdout",
     "output_type": "stream",
     "text": [
      "67\n"
     ]
    }
   ],
   "source": [
    "name = 'PC3'\n",
    "number = (ord(name[1]) - ord('A')) * 32 + int(name[2])\n",
    "print(number)"
   ]
  },
  {
   "cell_type": "markdown",
   "metadata": {},
   "source": [
    "### IO Service\n",
    "By default, the IO service `/usr/local/bin/io_service.py` is running at background and uses MQTT as a message bus to communicate with other programs.\n",
    "We can publish MQTT messages to the topic `/voicen/leds/value` to control the LEDs."
   ]
  },
  {
   "cell_type": "code",
   "execution_count": 3,
   "metadata": {},
   "outputs": [],
   "source": [
    "!mosquitto_pub -t /voicen/leds/value -m 0xf\n",
    "!sleep 1\n",
    "!mosquitto_pub -t /voicen/leds/value -m 0x0"
   ]
  },
  {
   "cell_type": "markdown",
   "metadata": {},
   "source": [
    "Subscribe the topic `/voicen/touch` to recieve touch events."
   ]
  },
  {
   "cell_type": "code",
   "execution_count": 4,
   "metadata": {},
   "outputs": [
    {
     "name": "stdout",
     "output_type": "stream",
     "text": [
      "{\"event\": 1, \"timestamp\": 1573032912}\n",
      "{\"event\": 0, \"timestamp\": 1573032912}\n"
     ]
    }
   ],
   "source": [
    "!mosquitto_sub -t /voicen/touch -C 2"
   ]
  }
 ],
 "metadata": {
  "kernelspec": {
   "display_name": "Python 3",
   "language": "python",
   "name": "python3"
  },
  "language_info": {
   "codemirror_mode": {
    "name": "ipython",
    "version": 3
   },
   "file_extension": ".py",
   "mimetype": "text/x-python",
   "name": "python",
   "nbconvert_exporter": "python",
   "pygments_lexer": "ipython3",
   "version": "3.6.8"
  }
 },
 "nbformat": 4,
 "nbformat_minor": 4
}
